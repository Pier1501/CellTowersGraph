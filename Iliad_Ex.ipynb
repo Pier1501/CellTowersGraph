{
 "cells": [
  {
   "cell_type": "markdown",
   "metadata": {},
   "source": [
    "ILIAD CELLS EXERCISE"
   ]
  },
  {
   "cell_type": "code",
   "execution_count": 1,
   "metadata": {},
   "outputs": [],
   "source": [
    "# Importing all libraries\n",
    "\n",
    "import reverse_geocode as rgeo  # used to find the locations of the cells\n",
    "from neo4j import GraphDatabase as neodb  # used to connect to the neo4j database\n",
    "import pandas as pd\n",
    "import datetime as dt \n",
    "import numpy as np\n",
    "import random as rd"
   ]
  },
  {
   "cell_type": "markdown",
   "metadata": {},
   "source": [
    "CONNECTING TO THE NEO4J DATABASE"
   ]
  },
  {
   "cell_type": "code",
   "execution_count": null,
   "metadata": {},
   "outputs": [],
   "source": [
    "# Connecting to my Neo4J Database \n",
    "\n",
    "NEO_URL = \"neo4j+s://\"\n",
    "\n",
    "# CHANGE THIS VALUES TO CONNECT TO YOUR OWN DATABASE/ACCOUNT\n",
    "\n",
    "CLIENT_CONNECTION = \"8d221327.databases.neo4j.io:7687\"  # connection string\n",
    "PASSWORD = \"RB3VOvRUYhfPXe0lLjq0OskCtT3pAKGl5_7ABPhuz_E\"  # password for your server"
   ]
  },
  {
   "cell_type": "code",
   "execution_count": null,
   "metadata": {},
   "outputs": [],
   "source": [
    "if __name__ == '__main__':\n",
    "    driver = neodb.driver(\n",
    "        NEO_URL + CLIENT_CONNECTION,\n",
    "        auth=(\"neo4j\", PASSWORD)\n",
    "    )"
   ]
  }
 ],
 "metadata": {
  "kernelspec": {
   "display_name": "base",
   "language": "python",
   "name": "python3"
  },
  "language_info": {
   "codemirror_mode": {
    "name": "ipython",
    "version": 3
   },
   "file_extension": ".py",
   "mimetype": "text/x-python",
   "name": "python",
   "nbconvert_exporter": "python",
   "pygments_lexer": "ipython3",
   "version": "3.11.5"
  }
 },
 "nbformat": 4,
 "nbformat_minor": 2
}
