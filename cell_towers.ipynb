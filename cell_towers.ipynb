{
 "cells": [
  {
   "cell_type": "markdown",
   "metadata": {},
   "source": [
    "# ILIAD CELL TOWERS GRAPH"
   ]
  },
  {
   "cell_type": "code",
   "execution_count": 1,
   "metadata": {},
   "outputs": [],
   "source": [
    "# Importing all libraries\n",
    "\n",
    "import reverse_geocode as rgeo  # used to find the locations of the cells\n",
    "from neo4j import GraphDatabase as graphdb  # used to connect to the neo4j database\n",
    "import pandas as pd\n",
    "import datetime as dt \n",
    "import random as rd\n",
    "from db_data import get_password, get_connection"
   ]
  },
  {
   "cell_type": "markdown",
   "metadata": {},
   "source": [
    "# CONNECTING TO THE NEO4J DATABASE"
   ]
  },
  {
   "cell_type": "code",
   "execution_count": null,
   "metadata": {},
   "outputs": [],
   "source": [
    "# Connecting to the Neo4j Database \n",
    "\n",
    "# CHANGE THIS VALUES TO CONNECT TO YOUR OWN DATABASE/ACCOUNT\n",
    "\n",
    "CLIENT_CONNECTION = get_connection() # connection string\n",
    "PASSWORD = get_password()  # password for the server"
   ]
  },
  {
   "cell_type": "code",
   "execution_count": null,
   "metadata": {},
   "outputs": [],
   "source": [
    "if __name__ == '__main__':\n",
    "    driver = graphdb.driver(\n",
    "        CLIENT_CONNECTION,\n",
    "        auth=(\"neo4j\", PASSWORD)\n",
    "    )"
   ]
  }
 ],
 "metadata": {
  "kernelspec": {
   "display_name": "base",
   "language": "python",
   "name": "python3"
  },
  "language_info": {
   "codemirror_mode": {
    "name": "ipython",
    "version": 3
   },
   "file_extension": ".py",
   "mimetype": "text/x-python",
   "name": "python",
   "nbconvert_exporter": "python",
   "pygments_lexer": "ipython3",
   "version": "3.11.5"
  }
 },
 "nbformat": 4,
 "nbformat_minor": 2
}
