{
 "cells": [
  {
   "cell_type": "markdown",
   "metadata": {},
   "source": [
    "# ILIAD CELL TOWERS GRAPH"
   ]
  },
  {
   "cell_type": "code",
   "execution_count": 1,
   "metadata": {},
   "outputs": [
    {
     "name": "stdout",
     "output_type": "stream",
     "text": [
      "bolt://localhost:7687\n"
     ]
    }
   ],
   "source": [
    "# Importing all libraries\n",
    "\n",
    "import reverse_geocode as rgeo  # used to find the locations of the cells\n",
    "from neo4j import GraphDatabase as graph  # used to connect to the neo4j database\n",
    "import pandas as pd\n",
    "import datetime as dt \n",
    "import random as rd\n",
    "import os\n",
    "from dotenv import dotenv_values\n",
    "from db_data import DatabaseData"
   ]
  },
  {
   "cell_type": "markdown",
   "metadata": {},
   "source": [
    "# CONNECTING TO THE NEO4J DATABASE"
   ]
  },
  {
   "cell_type": "code",
   "execution_count": 2,
   "metadata": {},
   "outputs": [],
   "source": [
    "# Connecting to the Neo4j Database \n",
    "\n",
    "db = DatabaseData()\n",
    "\n",
    "# CHANGE THIS VALUES TO CONNECT TO YOUR OWN DATABASE/ACCOUNT\n",
    "\n",
    "DB_USER = db.user # name of the database\n",
    "DB_LINK = db.connection  # link to the database\n",
    "DB_PASSWORD = db.password # password of the database"
   ]
  },
  {
   "cell_type": "code",
   "execution_count": 3,
   "metadata": {},
   "outputs": [
    {
     "name": "stderr",
     "output_type": "stream",
     "text": [
      "/tmp/ipykernel_32418/462349057.py:2: DtypeWarning: Columns (7) have mixed types. Specify dtype option on import or set low_memory=False.\n",
      "  df = pd.read_csv('iliad.csv', sep=';')\n"
     ]
    }
   ],
   "source": [
    "# Getting the csv with all the informations\n",
    "df = pd.read_csv('iliad.csv', sep=';')"
   ]
  },
  {
   "cell_type": "code",
   "execution_count": 4,
   "metadata": {},
   "outputs": [],
   "source": [
    "if __name__ == '__main__':\n",
    "    driver = graph.driver(\n",
    "        DB_LINK,\n",
    "        auth=(DB_USER, DB_PASSWORD)\n",
    "    )"
   ]
  },
  {
   "cell_type": "code",
   "execution_count": 5,
   "metadata": {},
   "outputs": [],
   "source": [
    "# Function user to creare people and users of\n",
    "def crea_person_user(name):\n",
    "    driver.execute_query(\n",
    "        f'INSERT (:Person :User{{name: $personal_name}})',\n",
    "        {\"personal_name\": name}\n",
    "    )"
   ]
  },
  {
   "cell_type": "code",
   "execution_count": 6,
   "metadata": {},
   "outputs": [],
   "source": [
    "# Create a cell to connect a device to\n",
    "def create_cell(name, code):\n",
    "    driver.execute_query(\n",
    "        f'MERGE (:Cell {{name: $personal_name, cell_code: $code}} )',\n",
    "        {\"personal_name\": name, \"code\": code}\n",
    "    )"
   ]
  },
  {
   "cell_type": "code",
   "execution_count": null,
   "metadata": {},
   "outputs": [],
   "source": [
    "# This cycle creates N nodes (:Cell {codice}) for a site\n",
    "for node, cid, cell in zip(df['node_id'], df['cid'], df['cell_name']):\n",
    "    codice = f'{node}:{cid}'\n",
    "    create_cell(cell, codice)"
   ]
  },
  {
   "cell_type": "code",
   "execution_count": null,
   "metadata": {},
   "outputs": [],
   "source": [
    "# Create a site where there will be cells for devices to connect to\n",
    "def crea_sito(nome, latitude, longitude, codice_id):\n",
    "    driver.execute_query(\n",
    "        f'MERGE (:Sito {{name: $nome, lat: $lat, long: $long, codice_identificativo: $codice_id}} )',\n",
    "        {\"nome\": nome, \"lat\": latitude, \"long\": longitude, \"codice_id\": codice_id}\n",
    "    )"
   ]
  },
  {
   "cell_type": "code",
   "execution_count": null,
   "metadata": {},
   "outputs": [],
   "source": [
    "# Create a relation [:APPARTIENE_A] between the site and the cell \n",
    "def collega_sito_cella(id):\n",
    "    id_stringa = str(id)\n",
    "    driver.execute_query(\n",
    "        f\"MATCH (x:Cella) WHERE x.cell_code STARTS WITH $id_s MATCH (y:Sito) WHERE y.codice_identificativo = $id MERGE (x)-[:APPARTIENE_A]->(y)\",\n",
    "        {\"id_s\": id_stringa, \"id\": id})"
   ]
  },
  {
   "cell_type": "code",
   "execution_count": null,
   "metadata": {},
   "outputs": [],
   "source": [
    "# Create geolocation \n",
    "def crea_geoloc(loc_diz):\n",
    "    city = loc_diz['city']\n",
    "    regione = loc_diz['state']\n",
    "    provincia = loc_diz['county']\n",
    "    driver.execute_query(\n",
    "        f\"MERGE (x: Città {{nome_città: $nome_c}}) MERGE (y: Provincia {{nome_provincia: $nome_p}}) MERGE (z: Regione {{nome_regione: $nome_n}}) MERGE (x)-[:IN]->(y)  MERGE (y)-[:IN]->(z)\" ,\n",
    "        {\"nome_c\": city, \"nome_p\": provincia,\"nome_n\": regione}\n",
    "    )"
   ]
  },
  {
   "cell_type": "code",
   "execution_count": null,
   "metadata": {},
   "outputs": [],
   "source": [
    "def collega_loc_sito(vet):\n",
    "    driver.execute_query(\n",
    "        f\"MATCH (s:Sito) WHERE s.codice_identificativo = $codice MATCH (c:Città) WHERE c.nome_città = $nome MERGE (s)-[:IN]->(c)\",\n",
    "        {\"codice\": vet[0],\"nome\": vet[1]}\n",
    "    )"
   ]
  },
  {
   "cell_type": "code",
   "execution_count": null,
   "metadata": {},
   "outputs": [],
   "source": [
    "def crea_sim():\n",
    "    sim_code = rd.randint(10**13,10**14-1)\n",
    "    return sim_code"
   ]
  },
  {
   "cell_type": "code",
   "execution_count": null,
   "metadata": {},
   "outputs": [],
   "source": [
    "def generate_call():\n",
    "    now = dt.datetime.now()\n",
    "    start_date = now - dt.timedelta(days=rd.randint(0, 7))\n",
    "    start_time = dt.time(hour=rd.randint(0, 23), minute=rd.randint(0, 59))\n",
    "    while True:\n",
    "        end_time = dt.time(hour=rd.randint(0, 23), minute=rd.randint(0, 59))\n",
    "        if end_time > start_time:\n",
    "            break\n",
    "    call_start_time = dt.datetime.combine(start_date, start_time)\n",
    "    call_end_time = dt.datetime.combine(start_date, end_time)\n",
    "\n",
    "    return call_start_time, call_end_time"
   ]
  },
  {
   "cell_type": "code",
   "execution_count": null,
   "metadata": {},
   "outputs": [],
   "source": [
    "def select_random_cell(colonna_df):\n",
    "    random_cella = np.random.choice(colonna_df)\n",
    "    return random_cella"
   ]
  },
  {
   "cell_type": "code",
   "execution_count": null,
   "metadata": {},
   "outputs": [],
   "source": [
    "def create_call_nodes():\n",
    "    sim = crea_sim()\n",
    "    start_time, end_time = generate_call()\n",
    "    nome_cella_random = select_random_cell(ddf['cell_name'])\n",
    "    lista_ping, metadata, keys = driver.execute_query(\n",
    "      \"\"\"\n",
    "      MATCH (c :Cella {name: $nome }) \n",
    "      MERGE (s :Sim {codice_sim: $sim_id}) \n",
    "      WITH c,s \n",
    "      MATCH q = (s)-[p:PING WHERE (p.inizio_chiamata >= $inizio_ping AND p.inizio_chiamata <= $fine_ping) OR (p.fine_chiamata >= $inizio_ping AND p.fine_chiamata <= $fine_ping) ]->(c)  \n",
    "      RETURN q\n",
    "      \"\"\",\n",
    "      {'sim_id': sim, 'inizio_ping': start_time, 'fine_ping': end_time, 'nome': nome_cella_random}\n",
    "    )\n",
    "    if not lista_ping:\n",
    "        driver.execute_query(\n",
    "            \"\"\"\n",
    "            MATCH (c :Cella {name: $nome }) \n",
    "            MATCH (s :Sim {codice_sim: $sim_id})\n",
    "            CREATE q = (s)-[p:PING {inizio_chiamata: $inizio_ping, fine_chiamata: $fine_ping}]->(c) \n",
    "            \"\"\",\n",
    "            {'sim_id': sim, 'inizio_ping': start_time, 'fine_ping': end_time, 'nome': nome_cella_random}\n",
    "        )"
   ]
  }
 ],
 "metadata": {
  "kernelspec": {
   "display_name": "Python 3",
   "language": "python",
   "name": "python3"
  },
  "language_info": {
   "codemirror_mode": {
    "name": "ipython",
    "version": 3
   },
   "file_extension": ".py",
   "mimetype": "text/x-python",
   "name": "python",
   "nbconvert_exporter": "python",
   "pygments_lexer": "ipython3",
   "version": "3.12.1"
  }
 },
 "nbformat": 4,
 "nbformat_minor": 2
}
